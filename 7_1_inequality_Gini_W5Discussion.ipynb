{
  "cells": [
    {
      "cell_type": "markdown",
      "source": [
        "# Welcome to this AM 11B Jupyter Notebook!\n",
        "___\n",
        "\n",
        "This notebook is an interactive way of discovering concepts related to AM 11B, within the context of real data.\n",
        "\n",
        "Jupyter notebooks are a neat way of combining text with code (in this case python code) to work with data and modeling while also reflecting on what we are doing.\n",
        "\n",
        "In this class, you are NOT expected to learn how to code. Instead, we are asking you to:\n",
        "1. **Read** through the notebook in your group.\n",
        "2. **Run all code blocks** (click on the code block and then use the little \"play\" icon below the \"Run\" menu at the top of this page) as you go through the notebook. Alternatively, you can click Shift and Enter. *Note that these must be run in order (sequentially) to work properly.*\n",
        "3. **Answer questions within the notebook** (you'll see instructions below). *Please attempt questions before \"revealing\" answers (you'll see what we mean below)--this helps you learn!*\n",
        "4. **Upload your completed notebook to Canvas** (*one per group is fine*). These count for participation and will be graded only on whether you have filled in answers (can be correct or incorrect).\n",
        "\n",
        "You will likely see Jupyter notebooks in other classes and this is a baby introduction to what they feel like.\n",
        "\n",
        "This material was adapted from materials from Dr. Eric Van Dusen's DATA 88 at UC Berkeley and is based on the Textbook Chapter\n",
        "https://data-88e.github.io/textbook/content/06-inequality/inequality.html\n",
        "___"
      ],
      "metadata": {
        "id": "OCczWHPTTi7C"
      }
    },
    {
      "cell_type": "markdown",
      "source": [
        "# Orienting ourselves to the Notebook\n",
        "\n",
        "**Step one:** write the names of your group members below."
      ],
      "metadata": {
        "id": "7DU0uqObV8s2"
      }
    },
    {
      "cell_type": "markdown",
      "source": [
        "*Replace this text with your group names by double clicking and typing in your names.*"
      ],
      "metadata": {
        "id": "cmi9DYfsWBaZ"
      }
    },
    {
      "cell_type": "markdown",
      "source": [
        "**Step two:** Let's begin!\n",
        "\n",
        "Run the code block below by clocking on the code block and then clicking on the small \"play\" button at the top under \"Run\". It will generate a list of text that you can ignore. Proceed on to the next cell when it is done (you can tell it is done because the asterisk to the left will turn into a number)."
      ],
      "metadata": {
        "id": "9cQtfJB6WLz2"
      }
    },
    {
      "cell_type": "code",
      "metadata": {
        "id": "98557fd8"
      },
      "source": [
        "!pip install datascience"
      ],
      "execution_count": null,
      "outputs": []
    },
    {
      "cell_type": "markdown",
      "source": [
        "**Step three:** For the remainder of this notebook, you will continue to run code blocks (in order) and read the notebook and answer questions, as directed. Run the code below to install some nice tools that we will use for plotting."
      ],
      "metadata": {
        "id": "Pr4KmJu3XG-J"
      }
    },
    {
      "cell_type": "code",
      "execution_count": null,
      "metadata": {
        "tags": [
          "remove_cell"
        ],
        "id": "3jnYz0yBymYC"
      },
      "outputs": [],
      "source": [
        "import pandas as pd\n",
        "import numpy as np\n",
        "import matplotlib.pyplot as plt\n",
        "import requests\n",
        "from datascience import *\n",
        "%matplotlib inline\n"
      ]
    },
    {
      "cell_type": "markdown",
      "metadata": {
        "id": "cARszn8aymYD"
      },
      "source": [
        "# Measurements of Inequality"
      ]
    },
    {
      "cell_type": "markdown",
      "metadata": {
        "id": "Gf1Q0yqeymYD"
      },
      "source": [
        "## The Lorenz Curve\n",
        "The Lorenz Curve visually presents income inequality by plotting household income percentile on the $x$-axis, and the cumulative income share that the bottom $x$ percentile own on the $y$-axis. The households are sorted by income, so that the first household at the 0th percentile has the least amount of income, while the household at the 100th percentile has the greatest income.\n",
        "\n",
        "For any point $(x,y)$ on the Lorenz curve, “the bottom x percent own y% of the income”. For example, in the plot below the $x$-axis reads 0.30 and $y$-axis reads 0.10, then it means that the bottom 30% of the population received 10% of the total population's income. This yields 2 implications for the Lorenz Curve:\n",
        "- The points $(0,0)$ and $(1,1)$ are always on the curve. $(0,0)$ represents the 0% of the population owning 0% of the income and $(1,1)$ represents 100% of the population owning 100% of the income.\n",
        "- The slope is always increasing. This is because households are sorted by income as percentiles: for a slight increase in $x$, households become richer and hence provide a larger share of total income.\n"
      ]
    },
    {
      "cell_type": "code",
      "source": [
        "# === Lorenz curve example ===\n",
        "x = np.linspace(0, 1, 100)\n",
        "y = x**2.2\n",
        "\n",
        "# x=0.3 and y=0.07\n",
        "x_point = 0.3\n",
        "y_point = x_point**2.2\n",
        "\n",
        "# === Plot ===\n",
        "plt.figure(figsize=(7,7))\n",
        "plt.plot(x, y, label=\"Lorenz Curve\", linewidth=2.5)\n",
        "plt.plot(x, x, linestyle=\"--\", color=\"gray\", label=\"Line of Equality\")\n",
        "\n",
        "# Highlight key points and percentile points\n",
        "plt.scatter([0, 1], [0, 1], color=\"black\")\n",
        "plt.scatter([x_point], [y_point], color=\"red\", s=80, zorder=5)\n",
        "plt.vlines(x_point, 0, y_point, color=\"red\", linestyle=\":\")\n",
        "plt.hlines(y_point, 0, x_point, color=\"red\", linestyle=\":\")\n",
        "\n",
        "# x=0.3 and y=0.07\n",
        "plt.text(x_point, -0.05, f\"{x_point:.2f}\", color=\"red\", ha=\"center\", fontsize=11, fontweight=\"bold\")\n",
        "plt.text(-0.07, y_point, f\"{y_point:.2f}\", color=\"red\", va=\"center\", fontsize=11, fontweight=\"bold\")\n",
        "\n",
        "# Legend for the red point\n",
        "plt.text(x_point + 0.16, y_point + 0.02,\n",
        "         f\"Bottom {int(x_point*100)}% of population\\nowns {y_point*100:.0f}% of income\",\n",
        "         color=\"red\", fontsize=10, bbox=dict(facecolor=\"white\", alpha=0.7))\n",
        "\n",
        "# Labels\n",
        "plt.title(\"Lorenz Curve: Income Distribution\", fontsize=14)\n",
        "plt.xlabel(\"Cumulative share of population (x)\")\n",
        "plt.ylabel(\"Cumulative share of income (y)\")\n",
        "plt.legend()\n",
        "\n",
        "plt.axis([0, 1, 0, 1])\n",
        "plt.show()\n"
      ],
      "metadata": {
        "id": "Bdb1qSVY5B7r"
      },
      "execution_count": null,
      "outputs": []
    },
    {
      "cell_type": "markdown",
      "source": [
        "### Line of Perfect Equality\n",
        "In a world of perfect equality, everyone would have the exact same income. In this case, the Lorenz curve would just be a 45-degree straight line that runs through $(0,0)$ and $(1,1)$, i.e. $y=x$. Mathematically, this is because the derivative is constant: for a slight increase in $x$, the total share of income increases at a constant rate. Another way to think about this is that the bottom 10% of the population will own 10% of the total income, the bottom 50% of the population will own 50% of the total income, and so on. This line is known as the *line of perfect equality*, and we typically display this line when plotting our Lorenz curves as a reference."
      ],
      "metadata": {
        "id": "3zVejeqZI_5D"
      }
    },
    {
      "cell_type": "markdown",
      "source": [
        "## Comparing the income distribution across countries\n",
        "The plot below, the Lorenz curves for two countries illustrate how income is distributed across their populations. The closer a curve lies to the diagonal (the line of equality), the more equal the income distribution.\n"
      ],
      "metadata": {
        "id": "Q25KaCHeEe4f"
      }
    },
    {
      "cell_type": "code",
      "source": [
        "# === Lorenz curve examples ===\n",
        "x = np.linspace(0, 1, 1000)\n",
        "y_equal = x\n",
        "y_countryA = x**2.0\n",
        "y_countryB = x**6.0\n",
        "\n",
        "# === Target income share level ===\n",
        "y_target = 0.10  # 7% of total income\n",
        "\n",
        "# Where each Lorenz curve reaches y=0.10\n",
        "x_A = x[np.argmax(y_countryA >= y_target)]\n",
        "x_B = x[np.argmax(y_countryB >= y_target)]\n",
        "\n",
        "# === Plot ===\n",
        "plt.figure(figsize=(7,7))\n",
        "\n",
        "# Line of equality\n",
        "plt.plot(x, y_equal, linestyle=\"--\", color=\"gray\", label=\"Line of Equality\")\n",
        "\n",
        "# Lorenz curves\n",
        "plt.plot(x, y_countryA, label=\"Country A\", linewidth=2.5)\n",
        "plt.plot(x, y_countryB, label=\"Country B\", linewidth=2.5, color=\"green\")\n",
        "\n",
        "# Horizontal line for y=0.10\n",
        "plt.hlines(y_target, 0, 1, color=\"black\", linestyle=\":\", linewidth=1.5)\n",
        "\n",
        "# Intersections\n",
        "plt.scatter([x_A], [y_target], color=\"blue\", s=70, zorder=5)\n",
        "plt.scatter([x_B], [y_target], color=\"green\", s=70, zorder=5)\n",
        "\n",
        "# Vertical lines to x-axis\n",
        "plt.vlines(x_A, 0, y_target, color=\"blue\", linestyle=\":\")\n",
        "plt.vlines(x_B, 0, y_target, color=\"green\", linestyle=\":\")\n",
        "\n",
        "# Axis labels for intersections\n",
        "plt.text(x_A, -0.05, f\"{x_A:.2f}\", color=\"blue\", ha=\"center\", fontsize=11, fontweight=\"bold\")\n",
        "plt.text(x_B, -0.05, f\"{x_B:.2f}\", color=\"green\", ha=\"center\", fontsize=11, fontweight=\"bold\")\n",
        "\n",
        "# Label for y=0.10\n",
        "plt.text(-0.10, y_target, f\"{y_target:.2f}\", color=\"black\", va=\"center\", fontsize=11, fontweight=\"bold\")\n",
        "\n",
        "# Add title and legend\n",
        "plt.title(\"Lorenz Curves: Comparing Levels of Inequality\", fontsize=14)\n",
        "plt.xlabel(\"Cumulative share of population (x)\")\n",
        "plt.ylabel(\"Cumulative share of income (y)\")\n",
        "plt.legend()\n",
        "plt.axis([0, 1, 0, 1])\n",
        "\n",
        "plt.show()\n",
        "\n"
      ],
      "metadata": {
        "id": "FzVOJA7I7Q-t"
      },
      "execution_count": null,
      "outputs": []
    },
    {
      "cell_type": "markdown",
      "source": [
        "### Question 1\n",
        "Based on the plot above, which country appears to have a fairer (more equal) distribution of income? Put your answer in the line below by double clicking on it.\n",
        "\n",
        "\n",
        "\n"
      ],
      "metadata": {
        "id": "6DOZm6cdH_do"
      }
    },
    {
      "cell_type": "markdown",
      "source": [
        "*Please replace this text with your answer.*"
      ],
      "metadata": {
        "id": "tteQJbsMS4f8"
      }
    },
    {
      "cell_type": "markdown",
      "source": [
        "<details>\n",
        "  <summary>Click to reveal the answer (but only do so after you've put your answer above!)</summary>\n",
        "\n",
        "**Answer:** Country A (the Lorenz curve closer to the diagonal)\n",
        "\n",
        "</details>\n"
      ],
      "metadata": {
        "id": "RtvjlIdpS2W5"
      }
    },
    {
      "cell_type": "markdown",
      "source": [
        "\n",
        "\n",
        "---\n",
        "\n",
        "\n"
      ],
      "metadata": {
        "id": "H9uUtXKtKX1R"
      }
    },
    {
      "cell_type": "markdown",
      "source": [
        "#### Line of Perfect Equality\n",
        "In a world of perfect equality, everyone would have the exact same income. In this case, the Lorenz curve would just be a 45-degree straight line that runs through $(0,0)$ and $(1,1)$, i.e. $y=x$. Mathematically, this is because the derivative is constant: for a slight increase in $x$, the total share of income increases at a constant rate. Another way to think about this is that the bottom 10% of the population will own 10% of the total income, the bottom 50% of the population will own 50% of the total income, and so on. This line is known as the *line of perfect equality*, and we typically display this line when plotting our Lorenz curves as a reference."
      ],
      "metadata": {
        "id": "or0Iaz4FIe6Y"
      }
    },
    {
      "cell_type": "markdown",
      "source": [
        "### Comparing Lorentz Curves"
      ],
      "metadata": {
        "id": "g88WgV1LQITa"
      }
    },
    {
      "cell_type": "code",
      "source": [
        "Country1 = make_array(0, 0.02, 0.05, 0.09, 0.15, 0.23, 0.33, 0.45, 0.59, 0.75, 1.0)"
      ],
      "metadata": {
        "id": "1b5jqyScNVsW"
      },
      "execution_count": null,
      "outputs": []
    },
    {
      "cell_type": "code",
      "source": [
        "income_distribution = Table().with_columns(\n",
        "    \"Population Percentage (%)\", np.arange(11) * 10,\n",
        "    \"Cumulative Income Share (%)\", Country1 * 100,\n",
        "    \"Perfect Equality Income Share (%)\", np.arange(11) * 10\n",
        ")\n",
        "income_distribution"
      ],
      "metadata": {
        "id": "gBp36ZDmNai7"
      },
      "execution_count": null,
      "outputs": []
    },
    {
      "cell_type": "code",
      "source": [
        "Country2 = make_array(0, 0.03, 0.07, 0.12, 0.18, 0.25, 0.33, 0.42, 0.54, 0.73, 1.0)\n",
        "income_distribution2 = Table().with_columns(\n",
        "    \"Population Percentage (%)\", np.arange(11) * 10,\n",
        "    \"Cumulative Income Share (%)\", Country2 * 100,\n",
        "    \"Perfect Equality Income Share (%)\", np.arange(11) * 10\n",
        ")\n",
        "income_distribution2"
      ],
      "metadata": {
        "id": "Sb1SHXsdNQDF"
      },
      "execution_count": null,
      "outputs": []
    },
    {
      "cell_type": "code",
      "source": [
        "income_distribution.join(\n",
        "    [\"Population Percentage (%)\", \"Perfect Equality Income Share (%)\"],\n",
        "    income_distribution2, [\"Population Percentage (%)\", \"Perfect Equality Income Share (%)\"]\n",
        ").relabel(\n",
        "    \"Cumulative Income Share (%)\", \"Country 1 Cumulative Income Share (%)\"\n",
        ").relabel(\n",
        "    \"Cumulative Income Share (%)_2\", \"Country 2 Cumulative Income Share (%)\"\n",
        ")"
      ],
      "metadata": {
        "id": "d7wAFyfpNi4D"
      },
      "execution_count": null,
      "outputs": []
    },
    {
      "cell_type": "markdown",
      "source": [
        "## How to compare income inequality if the Lorentz curves cross each other?\n",
        "\n",
        "Now, ambiguity arises; while bottom income percentiles earn a larger share of national income in country 2, top income percentiles also have a larger share. We can visualize this phenomenon by the 'crossing' of Lorenz curves on the plot. As a result, we do cannot easily tell which country has a higher level of income inequality.\n",
        "\n",
        "As you may see, the Lorenz curve is not able to produce a 'quantitative' measure of income inequality, making the scenario above hard for us to compare the 2 countries. For this, we turn to the **Gini coefficient**."
      ],
      "metadata": {
        "id": "psl250bKL2uW"
      }
    },
    {
      "cell_type": "code",
      "execution_count": null,
      "metadata": {
        "tags": [
          "remove_input"
        ],
        "id": "E7E1gNtdymYF"
      },
      "outputs": [],
      "source": [
        "plt.figure(figsize=[7,7])\n",
        "plt.plot(income_distribution.column(0), income_distribution.column(1), \"-o\", c = 'b')\n",
        "plt.plot(income_distribution.column(0), income_distribution2.column(1), \"-o\", c = 'r')\n",
        "plt.legend([\"Country 1\", \"Country 2\"])\n",
        "plt.plot([0,100], [0,100], color='k');"
      ]
    },
    {
      "cell_type": "markdown",
      "metadata": {
        "id": "cRrMSQvxymYF"
      },
      "source": [
        "## The Gini Coefficient"
      ]
    },
    {
      "cell_type": "markdown",
      "metadata": {
        "id": "W1LTD3e1ymYF"
      },
      "source": [
        "We can use the Gini coefficeint to quantify the level of income inequality."
      ]
    },
    {
      "cell_type": "markdown",
      "source": [
        "<div>\n",
        "<img src=https://data88e.org/textbook/_images/Gini.png width=\"500\">\n",
        "</div>"
      ],
      "metadata": {
        "id": "ONNIl32PYzY6"
      }
    },
    {
      "cell_type": "markdown",
      "metadata": {
        "id": "rWKZwYKmymYF"
      },
      "source": [
        "\n",
        "\n",
        "The **Gini coefficient** is the ratio of the area between the line of equality and the Lorenz curve to the total area under the line of equality. Referring to $A$ and $B$ from {numref}`gini-coefficient`:\n",
        "\n",
        "$$\\text{Gini} = \\frac{\\text{Area between line of equality and Lorenz curve}}{\\text{Area under line of equality}} = \\frac{A}{A+B}$$\n",
        "\n",
        "If we express the Lorenz curve as $L(x)$, we can use calculus to derive an equation for the Gini coefficient:\n",
        "\n",
        "$$\\text{Gini} = \\frac{\\frac{1}{2} - \\int_0^1 L(x)\\text{d}x}{\\frac{1}{2}} = 1 - 2\\int_0^1 L(x)\\text{d}x$$\n"
      ]
    },
    {
      "cell_type": "markdown",
      "metadata": {
        "id": "ewDKXlJ9ymYF"
      },
      "source": [
        "Intuitively, the closer the Lorenz curve is to the line of equality, the lower income inequality exists. Hence, the smaller the area of A, the lower the inequality. **This means that the smaller the Gini coefficient, the lower the income inequality.** Also note that the Gini coefficient will always be between 0 and 1. Mathematically, since $A$ and $B$ are both positive, $0<\\frac{A}{A+B}<1$."
      ]
    },
    {
      "cell_type": "code",
      "execution_count": null,
      "metadata": {
        "id": "qSuB5n9qymYF"
      },
      "outputs": [],
      "source": [
        "# This function estimates the Gini coefficient. You don't have to understand how this code works below.\n",
        "def gini(distribution):\n",
        "    sorted_distribution = sorted(distribution)\n",
        "    height = 0\n",
        "    area = 0\n",
        "    for i in sorted_distribution:\n",
        "        height += i\n",
        "        area += height - i / 2\n",
        "    fair_area = height * len(distribution) / 2.\n",
        "    return (fair_area - area) / fair_area"
      ]
    },
    {
      "cell_type": "markdown",
      "metadata": {
        "id": "P5E_xWxaymYF"
      },
      "source": [
        "When we use our population as the parameter to the `gini` function, we get:"
      ]
    },
    {
      "cell_type": "code",
      "source": [
        "gini_coefficient_country1 = gini(Country1)\n",
        "gini_coefficient_country1"
      ],
      "metadata": {
        "id": "V1AopAAuQp_U"
      },
      "execution_count": null,
      "outputs": []
    },
    {
      "cell_type": "code",
      "source": [
        "gini_coefficient_country2 = gini(Country2)\n",
        "gini_coefficient_country2"
      ],
      "metadata": {
        "id": "7tSyzzGRQqYT"
      },
      "execution_count": null,
      "outputs": []
    },
    {
      "cell_type": "markdown",
      "metadata": {
        "id": "PH1SET0IymYF"
      },
      "source": [
        " Here, the gini coefficient would indicate that country 1 has a higher level of income inequality than country 2.\n",
        "\n",
        " # Making an educated guess\n",
        "\n",
        " We all have theories about which countries are equitable and inequitable based on life experience. For instance, consider the following countries:\n",
        "\n",
        " 🇨🇳 China  🇺🇸 United States   🇫🇷 France  🇧🇷 Brazil\n",
        "\n",
        " You likely have some ideas about which country might be more or less inequitable in terms of wealth distribution.\n",
        "\n",
        " ### Question 2\n",
        " After discussing with your group, make a guess about wealth distribution inequities by ordering the above countries from MOST equitable to LEAST equitable. Put your answer below."
      ]
    },
    {
      "cell_type": "markdown",
      "source": [
        "*Please replace this text with your guess.*"
      ],
      "metadata": {
        "id": "aJvpmATSaWCl"
      }
    },
    {
      "cell_type": "markdown",
      "source": [
        "Now run the code below, which visualizes the 4 countries Lorenze curves."
      ],
      "metadata": {
        "id": "oGtJDyAeaYkl"
      }
    },
    {
      "cell_type": "code",
      "source": [
        "\n",
        "\n",
        "# === Lorenz curve given Gini ===\n",
        "def lorenz_curve(gini, n=200):\n",
        "    alpha = (2 / (1 - gini)) - 1\n",
        "    x = np.linspace(0, 1, n)\n",
        "    y = x ** alpha\n",
        "    return x, y, alpha\n",
        "\n",
        "# === Gini coefficients to plot ===\n",
        "ginis = [0.32, 0.36, 0.42, 0.52]\n",
        "colors = [\"red\", \"purple\", \"blue\", \"green\"]\n",
        "\n",
        "plt.figure(figsize=(8, 8))\n",
        "\n",
        "# Line of equality\n",
        "x = np.linspace(0, 1, 200)\n",
        "plt.plot(x, x, \"--\", color=\"gray\", label=\"Line of Equality\")\n",
        "\n",
        "# === Plot Lorenz curves for each Gini ===\n",
        "for g, c in zip(ginis, colors):\n",
        "    x, y, alpha = lorenz_curve(g)\n",
        "    plt.plot(x, y, color=c, linewidth=2.5, label=f\"Gini = {g:.2f}\")\n",
        "\n",
        "\n",
        "# === Format plot ===\n",
        "plt.title(\"Lorenz Curves for Different Levels of Inequality\", fontsize=14)\n",
        "plt.xlabel(\"Cumulative share of population (x)\")\n",
        "plt.ylabel(\"Cumulative share of income (y)\")\n",
        "plt.legend()\n",
        "plt.axis([0, 1, 0, 1])\n",
        "plt.grid(alpha=0.3)\n",
        "plt.show()\n"
      ],
      "metadata": {
        "id": "ycbMmdCX8FI1"
      },
      "execution_count": null,
      "outputs": []
    },
    {
      "cell_type": "markdown",
      "source": [
        "### Question 3\n",
        "Given the plot above and your guess from Question 2, indicate the colors each country corresponds to in the plot above:\n",
        "\n",
        "🇨🇳 China  🇺🇸 United States   🇫🇷 France  🇧🇷 Brazil\n",
        "\n"
      ],
      "metadata": {
        "id": "6fpDdFJIRSLr"
      }
    },
    {
      "cell_type": "markdown",
      "source": [
        "*Please replace this text with your answer (each country's color match).*"
      ],
      "metadata": {
        "id": "e0GmkMNoa0ab"
      }
    },
    {
      "cell_type": "markdown",
      "source": [
        "<details>\n",
        "  <summary>Click to reveal the answer (after you've filled in your guess above!)</summary>\n",
        "\n",
        "**Answer:** France (red), China (purple), United States (blue), Brazil (green) (according to the WBPIP 2021 data)\n",
        "\n",
        "</details>"
      ],
      "metadata": {
        "id": "EZYPS5xwayaQ"
      }
    },
    {
      "cell_type": "markdown",
      "source": [
        "# Gini Coefficients Over Time\n",
        "\n",
        "Run the code below to load a time-lapsed video showing Gini Coefficients over time. After running the code, you will see that you can click \"Play time-lapse\" within the visualization."
      ],
      "metadata": {
        "id": "IoSs1jIzbR36"
      }
    },
    {
      "cell_type": "code",
      "source": [
        "from IPython.display import HTML\n",
        "\n",
        "HTML(\"\"\"\n",
        "<iframe src=\"https://ourworldindata.org/grapher/economic-inequality-gini-index?tab=line&time=earliest..2023&country=BRA~USA~FRA~CHN~IND~MEX\"\n",
        "        loading=\"lazy\"\n",
        "        style=\"width: 100%; height: 600px; border: 0px none;\"\n",
        "        allow=\"web-share; clipboard-write\">\n",
        "</iframe>\n",
        "\"\"\")\n"
      ],
      "metadata": {
        "id": "wXusMQ_YTvTS"
      },
      "execution_count": null,
      "outputs": []
    },
    {
      "cell_type": "markdown",
      "source": [
        "### Question 4\n",
        "\n",
        "What did your group notice about this time-lapse? Was there anything that caught your eye?"
      ],
      "metadata": {
        "id": "d5NVBHJfcHr7"
      }
    },
    {
      "cell_type": "markdown",
      "source": [
        "*Click to replace this text with your answer.*"
      ],
      "metadata": {
        "id": "mDjgHD58cYLo"
      }
    },
    {
      "cell_type": "markdown",
      "metadata": {
        "tags": [],
        "id": "PWh5icIQymYF"
      },
      "source": [
        "# Income Inequality Historically\n",
        "\n",
        "<!-- Written by Amal Bhatnagar -->\n",
        "\n",
        "In the last chart on the previous page, you may have noticed that income inequality was rising in the United States in the last few decades. We will examine this in more detail, and also observe global trends in inequality."
      ]
    },
    {
      "cell_type": "markdown",
      "metadata": {
        "id": "AVwz_56pymYF"
      },
      "source": [
        "## The United States\n",
        "\n",
        "Let's look at historical trends of income inequality in the US over the last 100 years. The data has been collected from [The World Inequality Database](https://wid.world/), which is co-directed by Berkeley Economics professors Emanuel Saez and Gabriel Zucman. Specifically, we will observe income distributions for the bottom 50 percent, top 10 percent, and top 1 percent."
      ]
    },
    {
      "cell_type": "code",
      "execution_count": null,
      "metadata": {
        "id": "ZyhCc1REymYF"
      },
      "outputs": [],
      "source": [
        "url = \"https://raw.githubusercontent.com/data-88e/fa24-materials/main/lec/lec07/US_inequality.csv\"\n",
        "response = requests.get(url)\n",
        "with open(\"US_inequality.csv\", \"wb\") as f:\n",
        "    f.write(response.content)\n",
        "\n",
        "us_hist = Table.read_table(\"US_inequality.csv\")\n",
        "us_hist.show(5)"
      ]
    },
    {
      "cell_type": "code",
      "execution_count": null,
      "metadata": {
        "id": "MIh7CqfXymYF"
      },
      "outputs": [],
      "source": [
        "us_hist.take(np.arange(100,105))"
      ]
    },
    {
      "cell_type": "markdown",
      "metadata": {
        "id": "ul7hcbVxymYF"
      },
      "source": [
        "Let's begin with some data cleaning: it seems like our 3 brackets are 'vertically stacked' on top of each other. Instead, we would like a table with 5 columns: `Year`, `bottom 50% income share`, `top 10% income share`, and `top 1% income share`."
      ]
    },
    {
      "cell_type": "code",
      "execution_count": null,
      "metadata": {
        "id": "A_OkC2a_ymYO"
      },
      "outputs": [],
      "source": [
        "bottom_50_us = us_hist.where(\"Percentile\", \"p0p50\").drop(\"Percentile\").relabeled(\"Income Share\", \"Bottom 50% Share\")\n",
        "top_10_us = us_hist.where(\"Percentile\", \"p90p100\").drop(\"Percentile\").relabeled(\"Income Share\", \"Top 10% Share\")\n",
        "top_1_us = us_hist.where(\"Percentile\", \"p99p100\").drop(\"Percentile\").relabeled(\"Income Share\", \"Top 1% Share\")\n",
        "us_hist_joined = bottom_50_us.join(\"Year\", top_10_us).join(\"Year\", top_1_us)\n",
        "us_hist_joined"
      ]
    },
    {
      "cell_type": "markdown",
      "metadata": {
        "id": "FgMtz0-kymYO"
      },
      "source": [
        "Oh no, there are some `nan` values! NaN (not a number) values are very common in real world datasets: often, we may not have some observations simply because no data was collected, or perhaps the data collected was faulty. Sometimes, we can try to impute or replace NaN values in order to avoid having gaps in our data, but for now let's ignore NaNs and when plotting to see what's going on:"
      ]
    },
    {
      "cell_type": "code",
      "execution_count": null,
      "metadata": {
        "tags": [
          "remove_input"
        ],
        "id": "kWszFj1PymYO"
      },
      "outputs": [],
      "source": [
        "# mpl.rcParams['figure.dpi'] = 120\n",
        "us_hist_joined.plot(\"Year\", width=11, height=7)\n",
        "plt.title(\"Income Share over Time\", fontsize = 16)\n",
        "plt.ylabel(\"Proportion\", fontsize = 14)\n",
        "plt.xlabel(\"Year\", fontsize = 14)\n",
        "plt.show()"
      ]
    },
    {
      "cell_type": "markdown",
      "metadata": {
        "id": "DqTmBvmFymYO"
      },
      "source": [
        "# Income Inequality for the Rest of the World"
      ]
    },
    {
      "cell_type": "markdown",
      "metadata": {
        "id": "2eYuTO7qymYO"
      },
      "source": [
        "Now let's examine the trends of income inequality in other parts of the world."
      ]
    },
    {
      "cell_type": "code",
      "execution_count": null,
      "metadata": {
        "id": "bFrXDBaoymYO"
      },
      "outputs": [],
      "source": [
        "url = \"https://raw.githubusercontent.com/data-88e/fa24-materials/main/lec/lec07/World_Inequality.csv\"\n",
        "response = requests.get(url)\n",
        "with open(\"World_Inequality.csv\", \"wb\") as f:\n",
        "    f.write(response.content)\n",
        "world_hist = Table.read_table(\"World_Inequality.csv\")\n",
        "bottom_50_world = world_hist.where(\"Percentile\", \"p0p50\").drop(\"Percentile\")\n",
        "top_10_world = world_hist.where(\"Percentile\", \"p90p100\").drop(\"Percentile\")\n",
        "top_1_world = world_hist.where(\"Percentile\", \"p99p100\").drop(\"Percentile\")\n",
        "top_10_world"
      ]
    },
    {
      "cell_type": "code",
      "execution_count": null,
      "metadata": {
        "tags": [
          "remove_input"
        ],
        "id": "il9J_qSpymYO"
      },
      "outputs": [],
      "source": [
        "top_10_world.plot(\"Year\", width=11, height=7)\n",
        "plt.ylabel(\"Gini Coefficient\", fontsize=14)\n",
        "plt.xlabel(\"Year\", fontsize=14)\n",
        "plt.title(\"Income Inequality over Time\", fontsize=18);"
      ]
    },
    {
      "cell_type": "markdown",
      "metadata": {
        "id": "WHiRtCuIymYO"
      },
      "source": [
        "Just like the US, it seems global inequality has been rising around the world, especially in China, India, Russia, and across Europe. However, in absolute terms, the level of income inequality in Europe is much lower than that in the United States.\n",
        "\n",
        "Also look at Russia: income inequality spiked up around 1991. This was likely caused by the fall of the USSR: the failing Soviet state left the ownership of state assets uncontested, which allowed former USSR officials to acquire state property through informal deals. This led to the rise of many Russian oligarchs - those who rapidly accumulated wealth during the era of Russian privatization directly follwing the dissolution of the Soviet Union."
      ]
    },
    {
      "cell_type": "code",
      "execution_count": null,
      "metadata": {
        "id": "BM3fGFsNymYO"
      },
      "outputs": [],
      "source": [
        "top_10_world.select(\"Year\", \"USA\", \"Europe\").plot(\"Year\", width=11, height=7)\n",
        "plt.ylabel(\"Gini Coefficient\", fontsize=14)\n",
        "plt.xlabel(\"Year\", fontsize=14)\n",
        "plt.title(\"Income Inequality over Time\", fontsize=18);"
      ]
    },
    {
      "cell_type": "markdown",
      "source": [
        "### Question 5\n",
        "\n",
        "Based on the plot above, what can we say about wealth inequities between Europe and the US over the years?"
      ],
      "metadata": {
        "id": "msxFxaTJcpEu"
      }
    },
    {
      "cell_type": "markdown",
      "source": [
        "*Click here to replace this text with your answer.*"
      ],
      "metadata": {
        "id": "HRsvmznFc9O9"
      }
    },
    {
      "cell_type": "markdown",
      "source": [
        "# Beyond the Gini ...\n",
        "\n",
        "In recent years, some people have argued that the Gini coefficient is insufficient to completely capture wealth distribution inequities.\n",
        "\n",
        "This is true and these arguments can be made of ANY model, but doesn't mean the model cannot provide some insight and help us develop further models, topics for debate, and questions to look into.\n",
        "\n",
        "In other words, models are devices that can help us start to understand topics, but they always involve simplifications.\n",
        "\n",
        "### Question 6\n",
        "\n",
        "Given this context, what are some elements of wealth inequities that we might want to add to our model? In other words, what other factors might be worth investigating if we want to understand wealth distributions in a country?"
      ],
      "metadata": {
        "id": "XEYgJ0XTdB89"
      }
    },
    {
      "cell_type": "markdown",
      "source": [
        "*Click here to replace this text with your group's answer.*"
      ],
      "metadata": {
        "id": "PGn28YzIeLap"
      }
    },
    {
      "cell_type": "markdown",
      "source": [
        "#Submission\n",
        "\n",
        "Make sure you have run all cells in this notebook (in order) before running the cell below, so that all images/graphs appear in the output.\n",
        "\n",
        "Then, do the following:\n",
        "1. Go to File (above left menu).\n",
        "2. Select Download (this should download the file to your downloads directory on your computer).\n",
        "3. Upload the file on Canvas under the Week 5 module, where you see Discussion Activity: Gini Coefficient (which is how you got to this file in the first place). Only one person per group needs to do these steps!\n",
        "\n",
        "Thank you!!!\n"
      ],
      "metadata": {
        "id": "ObONZOJDtYBU"
      }
    },
  ],
  "metadata": {
    "kernelspec": {
      "display_name": "Python 3 (ipykernel)",
      "language": "python",
      "name": "python3"
    },
    "language_info": {
      "codemirror_mode": {
        "name": "ipython",
        "version": 3
      },
      "file_extension": ".py",
      "mimetype": "text/x-python",
      "name": "python",
      "nbconvert_exporter": "python",
      "pygments_lexer": "ipython3",
      "version": "3.9.15"
    },
    "varInspector": {
      "cols": {
        "lenName": 16,
        "lenType": 16,
        "lenVar": 40
      },
      "kernels_config": {
        "python": {
          "delete_cmd_postfix": "",
          "delete_cmd_prefix": "del ",
          "library": "var_list.py",
          "varRefreshCmd": "print(var_dic_list())"
        },
        "r": {
          "delete_cmd_postfix": ") ",
          "delete_cmd_prefix": "rm(",
          "library": "var_list.r",
          "varRefreshCmd": "cat(var_dic_list()) "
        }
      },
      "types_to_exclude": [
        "module",
        "function",
        "builtin_function_or_method",
        "instance",
        "_Feature"
      ],
      "window_display": false
    },
    "colab": {
      "provenance": []
    }
  },
  "nbformat": 4,
  "nbformat_minor": 0
}
